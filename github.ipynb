{
 "cells": [
  {
   "cell_type": "markdown",
   "metadata": {},
   "source": [
    "Introducción a Git : __https://bluuweb.github.io/tutorial-github/01-fundamentos/__\n",
    "1. Validar que tengan git instalado (buscar página oficial), haciendo uso de terminal: __git version__\n",
    "2. luego vincular una carpeta con git (solo la primera vez con respecto a dicha carpeta): __git init__\n",
    ">__nota__: si estas trabajando en visual studio code, podrá visualizar que los archivos creados dentro de la capeta vinculada a git se ponen en verde, lo que indica que no tienen seguimiento. A su vez, es de aclarar que, el objetivo de git es tomar fotografías de determinado momento de los archivos/desarrollos, para que en un futuro puedas volver a usarlo\n",
    "3. También puedes validar si los archivos se modificaron, de crearon o se eliminaron con el comando: __git status -s__\n",
    "4. Para añadir un archivo de la carpeta vinculada a espacio temporal, deberá agregar el siguiente comando: __git add github.ipynb__\n",
    ">__nota__: podrá vover a revisar con __git status -s__ donde se valida que el archivo aparece con una letra A, que significa que ya se encuentra en temporal.\n",
    "5. Ahora podrá realizar commit, que es lo que finalmente permite viajar en el tiempo en los archivos, para ello usar el comando: __git commit -m \"Agregamos el .ipynb\"__\n",
    ">__nota__: si se agrega el comando __git status -s__ se valida que el archivo al que se le hizo comit ya no se encuentra, así mismo, si está trabajando en visual studio code visualizará que el archivo al que se le hizo commit ya no se encuentra resaltado y tampoco tiene la letra A(ha tenido seguimiento) o U(sin segimiento).\n",
    "6. Si lo que se quiere es agregar todos los archivos de la carpeta a espacio temporal, entonces poner el comando: __git add .__ \n",
    "    Finalmente puede hacer commit como en el ítem 5, con el objetivo de llevar al repositorio local la información. \n",
    "7. Para revisar las versiones guardadas o lo conocido como 'commit', y viajar en el tiempo de los archivos, agregar el siguiente comando (allí visualiza los códigos de versiones generados a cada commit): __git log --online__\n",
    "8. Para viajar en el tiempo de las versiones, use el siguiente comando: __git reset --hard c0d1g0__\n"
   ]
  },
  {
   "cell_type": "markdown",
   "metadata": {},
   "source": [
    "Ahora, podremos realizar respaldo en GITHUB\n",
    "1. Loguearse en github\n",
    "2. nuevo repositorio: __New__\n",
    "3. Ponerle un nombre y descripción al repositorio\n",
    "4. Definir si lo desean público o privado\n",
    "> __nota__: de momento con estos pasos ya serpia suficiente para iniciar a generar respaldo del repositorio local en github\n",
    "5. Crear repositorio\n",
    "\n",
    "Tendrá la opción de crear un nueva información dentro del repositorio, importar de otro repositorio o realizar _push_ de repositorio generado en local\n",
    "\n",
    "Para el presente ejemplo se crea el reposiorio __git_introduction__ y se va a cargar el archivo github.ipynb:\n",
    "\n",
    "1. Copiar el comando referente a push mostrado en github: git remote add origin __https://github.com/juhincapie/git_introduction.git__ y pegarlo en el terminal\n",
    "2. Luego copiar y pegar en terminar el comando (mostrado en github): __git push -u origin main__\n",
    "\n",
    "Ahora, cada vez que se realice commit (los pasos de git del bloque uno del presente archivo), este tendrá respaldo en github siempre y cuando al final se agregue el comando: __git hub push__\n"
   ]
  },
  {
   "cell_type": "markdown",
   "metadata": {},
   "source": []
  }
 ],
 "metadata": {
  "kernelspec": {
   "display_name": "Python 3.9.7 64-bit",
   "language": "python",
   "name": "python3"
  },
  "language_info": {
   "name": "python",
   "version": "3.9.7"
  },
  "orig_nbformat": 4,
  "vscode": {
   "interpreter": {
    "hash": "96724d6b9637267567451acd5db668b6a362e9d39d8edb46a4de17ef5590deaf"
   }
  }
 },
 "nbformat": 4,
 "nbformat_minor": 2
}
